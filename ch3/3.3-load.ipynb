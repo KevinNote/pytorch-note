{
 "cells": [
  {
   "cell_type": "markdown",
   "metadata": {},
   "source": [
    "# Data Load"
   ]
  },
  {
   "cell_type": "code",
   "execution_count": null,
   "metadata": {},
   "outputs": [],
   "source": [
    "import torch\n",
    "from torchvision import datasets\n",
    "train_data = datasets.ImageFolder(train_path, transform=data_transform)\n",
    "val_data = datasets.ImageFolder(val_path, transform=data_transform)"
   ]
  },
  {
   "cell_type": "markdown",
   "metadata": {},
   "source": [
    "## Own Dataset Class\n",
    "\n",
    "```csharp\n",
    "class MyDataset : Torch.Dataset {\n",
    "    // __init__ :: ...\n",
    "    // def __init__(self, ...)\n",
    "    public MyDataset() {\n",
    "        base()\n",
    "    }\n",
    "\n",
    "    // __getitem__ :: index -> (image, label)\n",
    "    // def __getitem__(self, index)\n",
    "    public override (object Image, object Label) GetItem(int index) {\n",
    "        return (index, index);\n",
    "    }\n",
    "\n",
    "    // __len__ :: int\n",
    "    // def __len__(self)\n",
    "    public override int Length {\n",
    "        get { return 10; }\n",
    "    }\n",
    "}"
   ]
  },
  {
   "cell_type": "code",
   "execution_count": null,
   "metadata": {},
   "outputs": [],
   "source": [
    "from torch.utils.data import DataLoader\n",
    "\n",
    "train_loader = torch.utils.data.DataLoader(train_data, batch_size=batch_size, num_workers=4, shuffle=True, drop_last=True)\n",
    "val_loader = torch.utils.data.DataLoader(val_data, batch_size=batch_size, num_workers=4, shuffle=False)\n",
    "# num_workers：有多少个进程用于读取数据，Windows下该参数设置为0，Linux下常见的为4或者8，根据自己的电脑配置来设置\n",
    "# drop_last：对于样本最后一部分没有达到批次数的样本，使其不再参与训练"
   ]
  }
 ],
 "metadata": {
  "language_info": {
   "name": "python"
  },
  "orig_nbformat": 4
 },
 "nbformat": 4,
 "nbformat_minor": 2
}
