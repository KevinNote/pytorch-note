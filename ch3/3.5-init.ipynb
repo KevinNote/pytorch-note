{
 "cells": [
  {
   "cell_type": "markdown",
   "metadata": {},
   "source": [
    "# Initialisation (`torch.nn.init`)\n",
    "\n",
    "https://pytorch.org/docs/stable/nn.init.html"
   ]
  },
  {
   "cell_type": "code",
   "execution_count": 1,
   "metadata": {},
   "outputs": [],
   "source": [
    "import torch\n",
    "from torch import nn"
   ]
  },
  {
   "cell_type": "code",
   "execution_count": 3,
   "metadata": {},
   "outputs": [],
   "source": [
    "conv = nn.Conv2d(in_channels=1, out_channels=3, kernel_size=3)\n",
    "linear = nn.Linear(in_features=10, out_features=1)"
   ]
  },
  {
   "cell_type": "code",
   "execution_count": 4,
   "metadata": {},
   "outputs": [
    {
     "data": {
      "text/plain": [
       "True"
      ]
     },
     "execution_count": 4,
     "metadata": {},
     "output_type": "execute_result"
    }
   ],
   "source": [
    "isinstance(conv,nn.Conv2d) # 判断conv是否是nn.Conv2d类型"
   ]
  },
  {
   "cell_type": "code",
   "execution_count": 5,
   "metadata": {},
   "outputs": [
    {
     "data": {
      "text/plain": [
       "False"
      ]
     },
     "execution_count": 5,
     "metadata": {},
     "output_type": "execute_result"
    }
   ],
   "source": [
    "\n",
    "isinstance(linear,nn.Conv2d) # 判断linear是否是nn.Conv2d类型"
   ]
  },
  {
   "cell_type": "code",
   "execution_count": 8,
   "metadata": {},
   "outputs": [
    {
     "data": {
      "text/plain": [
       "tensor([[[[-0.1601,  0.0511, -0.3157],\n",
       "          [ 0.1375, -0.3138, -0.1144],\n",
       "          [-0.2575, -0.2136,  0.0251]]],\n",
       "\n",
       "\n",
       "        [[[-0.2027, -0.3327,  0.3181],\n",
       "          [-0.0728,  0.0657,  0.2611],\n",
       "          [ 0.3107, -0.1458, -0.1220]]],\n",
       "\n",
       "\n",
       "        [[[ 0.0473,  0.1609,  0.0596],\n",
       "          [ 0.1150,  0.2460, -0.2638],\n",
       "          [ 0.0539, -0.0785, -0.2971]]]])"
      ]
     },
     "execution_count": 8,
     "metadata": {},
     "output_type": "execute_result"
    }
   ],
   "source": [
    "# 查看随机初始化的conv参数\n",
    "conv.weight.data"
   ]
  },
  {
   "cell_type": "code",
   "execution_count": 9,
   "metadata": {},
   "outputs": [
    {
     "data": {
      "text/plain": [
       "tensor([[ 0.0568,  0.2411, -0.2641,  0.1228, -0.1983, -0.0790,  0.2232,  0.0200,\n",
       "          0.1867,  0.1824]])"
      ]
     },
     "execution_count": 9,
     "metadata": {},
     "output_type": "execute_result"
    }
   ],
   "source": [
    "linear.weight.data"
   ]
  },
  {
   "cell_type": "code",
   "execution_count": 10,
   "metadata": {},
   "outputs": [
    {
     "data": {
      "text/plain": [
       "tensor([[[[ 0.3782, -0.5009,  0.4688],\n",
       "          [ 0.1973,  0.0392, -0.5790],\n",
       "          [ 0.4397, -0.1050,  0.0361]]],\n",
       "\n",
       "\n",
       "        [[[ 1.0495,  0.0351,  0.0784],\n",
       "          [-1.0659, -0.5772,  0.0593],\n",
       "          [-0.7584,  0.0585,  0.7883]]],\n",
       "\n",
       "\n",
       "        [[[-0.4651,  0.0076, -0.3955],\n",
       "          [-0.3594, -0.1236, -0.1103],\n",
       "          [-0.0549,  0.2011,  0.3440]]]])"
      ]
     },
     "execution_count": 10,
     "metadata": {},
     "output_type": "execute_result"
    }
   ],
   "source": [
    "nn.init.kaiming_normal_(conv.weight.data)\n",
    "conv.weight.data"
   ]
  },
  {
   "cell_type": "code",
   "execution_count": 11,
   "metadata": {},
   "outputs": [
    {
     "data": {
      "text/plain": [
       "tensor([[0.3000, 0.3000, 0.3000, 0.3000, 0.3000, 0.3000, 0.3000, 0.3000, 0.3000,\n",
       "         0.3000]])"
      ]
     },
     "execution_count": 11,
     "metadata": {},
     "output_type": "execute_result"
    }
   ],
   "source": [
    "nn.init.constant_(linear.weight.data, 0.3)\n",
    "linear.weight.data"
   ]
  },
  {
   "cell_type": "markdown",
   "metadata": {},
   "source": [
    "## 封装初始化函数"
   ]
  },
  {
   "cell_type": "code",
   "execution_count": null,
   "metadata": {},
   "outputs": [],
   "source": [
    "def initialise_weights(self):\n",
    "    for m in self.modules():\n",
    "        if isinstance(m, nn.Linear):\n",
    "            nn.init.normal_(m.weight.data, mean=0.1)\n",
    "            if m.bias is not None:\n",
    "                nn.init.zeros_(m.bias.data)\n",
    "        elif isinstance(m, nn.Conv2d):\n",
    "            nn.init.xavier_normal_(m.weight.data)\n",
    "            if m.bias is not None:\n",
    "                nn.init.constant_(m.bias.data, val=0.3)\n",
    "        elif isinstance(m, nn.BatchNorm2d):\n",
    "            m.weight.data.fill_(1) \t\t \n",
    "            m.bias.data.zeros_()\t"
   ]
  }
 ],
 "metadata": {
  "kernelspec": {
   "display_name": "Python 3",
   "language": "python",
   "name": "python3"
  },
  "language_info": {
   "codemirror_mode": {
    "name": "ipython",
    "version": 3
   },
   "file_extension": ".py",
   "mimetype": "text/x-python",
   "name": "python",
   "nbconvert_exporter": "python",
   "pygments_lexer": "ipython3",
   "version": "3.11.2"
  },
  "orig_nbformat": 4
 },
 "nbformat": 4,
 "nbformat_minor": 2
}
