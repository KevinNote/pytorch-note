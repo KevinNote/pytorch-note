{
 "cells": [
  {
   "cell_type": "markdown",
   "metadata": {},
   "source": [
    "# 损失函数"
   ]
  },
  {
   "cell_type": "code",
   "execution_count": 1,
   "metadata": {},
   "outputs": [],
   "source": [
    "import torch\n",
    "from torch import nn"
   ]
  },
  {
   "cell_type": "markdown",
   "metadata": {},
   "source": [
    "## BCELoss (Binary Cross Entropy Loss)\n",
    "\n",
    "$$\n",
    "L=\\frac{1}{N}\\sum_{i=1}^N -[y_i\\log(p_i)+(1-y_i)\\log(1-p_i)]\n",
    "$$\n",
    "\n",
    "- $y_i$: 样本i的真实标签（0或者1）\n",
    "- $p_i$: 样本i预测为正样本的概率\n",
    "\n",
    "SUM 模式\n",
    "\n",
    "\n",
    "$$\n",
    "l(X, Y) = \\begin{cases}\n",
    "    \\text{mean}(L)         & \\text{if reduction = 'mean'} \\\\\n",
    "    \\text{sum }(L)         & \\text{if reduction = 'sum' }\n",
    "\\end{cases}\n",
    "$$"
   ]
  },
  {
   "cell_type": "code",
   "execution_count": 11,
   "metadata": {},
   "outputs": [
    {
     "name": "stdout",
     "output_type": "stream",
     "text": [
      "input =\n",
      " tensor([ 0.1679, -0.0870, -0.7915], requires_grad=True)\n",
      "target =\n",
      " tensor([1., 0., 0.])\n",
      "BCELoss() =\n",
      " tensor(0.5457, grad_fn=<BinaryCrossEntropyBackward0>)\n"
     ]
    }
   ],
   "source": [
    "active = nn.Sigmoid()\n",
    "loss = nn.BCELoss()\n",
    "\n",
    "input = torch.randn(3, requires_grad=True)\n",
    "print('input =\\n', input)\n",
    "\n",
    "target = torch.empty(3).random_(2) # random_(N) 是表示从 [0, N) 进行随机\n",
    "print('target =\\n', target)\n",
    "\n",
    "output = loss(active(input), target)\n",
    "output.backward()\n",
    "\n",
    "print('BCELoss() =\\n', output)"
   ]
  },
  {
   "cell_type": "markdown",
   "metadata": {},
   "source": [
    "## CrossEntropyLoss\n",
    "\n",
    "$$\n",
    "\\begin{aligned}\n",
    "L &= \\frac{1}{N}\\sum_i^N L_i \\\\\n",
    "  &= \\frac{1}{N}\\sum_{c=1}^C [y_{ic} \\log(p_{ic})]\n",
    "\\end{aligned}\n",
    "$$\n",
    "\n",
    "- C: 类别数\n",
    "- $y_{ic}$: bool, 如果样本 i 真实类别为 c，则为 1，否则为 0\n",
    "- $p_{ic}$: 样本 i 预测为类别 c 的概率"
   ]
  },
  {
   "cell_type": "code",
   "execution_count": 15,
   "metadata": {},
   "outputs": [
    {
     "name": "stdout",
     "output_type": "stream",
     "text": [
      "input =\n",
      " tensor([[ 0.2775, -1.1323,  0.7124, -2.1484,  0.4200],\n",
      "        [-1.7906, -0.6312, -0.2453,  0.6484, -1.0162],\n",
      "        [-0.7919, -0.1500,  0.6598, -1.1956, -0.8249]], requires_grad=True)\n",
      "target =\n",
      " tensor([1, 4, 2])\n",
      "CELoss() =\n",
      " tensor(1.9556, grad_fn=<NllLossBackward0>)\n"
     ]
    }
   ],
   "source": [
    "loss = nn.CrossEntropyLoss()\n",
    "\n",
    "input = torch.randn(3, 5, requires_grad=True)\n",
    "print('input =\\n', input)\n",
    "\n",
    "target = torch.empty(3, dtype=torch.long).random_(5)\n",
    "print('target =\\n', target)\n",
    "\n",
    "output = loss(input, target)\n",
    "output.backward()\n",
    "print('CELoss() =\\n', output)"
   ]
  },
  {
   "cell_type": "markdown",
   "metadata": {},
   "source": [
    "## L1 Loss\n",
    "\n",
    "$$\n",
    "L=\\mid \\hat{y}-y \\mid\n",
    "$$"
   ]
  },
  {
   "cell_type": "code",
   "execution_count": 16,
   "metadata": {},
   "outputs": [
    {
     "name": "stdout",
     "output_type": "stream",
     "text": [
      "input =\n",
      " tensor([[-1.7635,  0.1556, -0.6223, -0.7268, -1.2946],\n",
      "        [-1.7378,  0.1661, -1.0814, -1.1439,  0.5920],\n",
      "        [ 0.1332, -1.1221,  0.3395, -0.3578, -0.0967]], requires_grad=True)\n",
      "target =\n",
      " tensor([[ 1.8535, -1.1770, -0.1588, -1.2424,  0.9354],\n",
      "        [-0.0087, -1.8183,  2.1992, -0.3471, -0.7438],\n",
      "        [-0.1790, -0.8815, -0.2270, -0.3427, -0.4090]])\n",
      "L1() =\n",
      " tensor(1.2488, grad_fn=<MeanBackward0>)\n"
     ]
    }
   ],
   "source": [
    "loss = nn.L1Loss()\n",
    "\n",
    "input = torch.randn(3, 5, requires_grad=True)\n",
    "print('input =\\n', input)\n",
    "\n",
    "target = torch.randn(3, 5)\n",
    "print('target =\\n', target)\n",
    "\n",
    "output = loss(input, target)\n",
    "output.backward()\n",
    "print('L1() =\\n', output)"
   ]
  },
  {
   "cell_type": "markdown",
   "metadata": {},
   "source": [
    "## MSE/L2 Loss\n",
    "\n",
    "$$\n",
    "L = (\\hat{y}-y)^2\n",
    "$$"
   ]
  },
  {
   "cell_type": "code",
   "execution_count": 17,
   "metadata": {},
   "outputs": [
    {
     "name": "stdout",
     "output_type": "stream",
     "text": [
      "input =\n",
      " tensor([[-0.5070,  0.4369, -0.1781,  0.0681, -0.4557],\n",
      "        [-1.2526,  0.3511, -0.5278, -0.0536,  1.5063],\n",
      "        [-0.5172,  0.6655, -0.0341,  0.3643,  0.5832]], requires_grad=True)\n",
      "target =\n",
      " tensor([[ 1.0522,  2.3562,  0.0837,  2.3595,  0.2934],\n",
      "        [ 0.2369, -2.0097, -1.2394, -0.2212,  0.4254],\n",
      "        [ 1.8768,  0.0744, -1.2391, -0.0936, -1.4914]])\n",
      "L1() =\n",
      " tensor(2.2358, grad_fn=<MseLossBackward0>)\n"
     ]
    }
   ],
   "source": [
    "loss = nn.MSELoss()\n",
    "\n",
    "input = torch.randn(3, 5, requires_grad=True)\n",
    "print('input =\\n', input)\n",
    "\n",
    "target = torch.randn(3, 5)\n",
    "print('target =\\n', target)\n",
    "\n",
    "output = loss(input, target)\n",
    "output.backward()\n",
    "print('L1() =\\n', output)"
   ]
  }
 ],
 "metadata": {
  "kernelspec": {
   "display_name": "Python 3",
   "language": "python",
   "name": "python3"
  },
  "language_info": {
   "codemirror_mode": {
    "name": "ipython",
    "version": 3
   },
   "file_extension": ".py",
   "mimetype": "text/x-python",
   "name": "python",
   "nbconvert_exporter": "python",
   "pygments_lexer": "ipython3",
   "version": "3.11.2"
  },
  "orig_nbformat": 4
 },
 "nbformat": 4,
 "nbformat_minor": 2
}
