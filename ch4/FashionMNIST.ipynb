{
 "cells": [
  {
   "cell_type": "code",
   "execution_count": 1,
   "metadata": {},
   "outputs": [],
   "source": [
    "import os\n",
    "import numpy as np\n",
    "import pandas as pd\n",
    "import torch\n",
    "from torch import nn\n",
    "from torch import optim\n",
    "from torch.utils.data import Dataset, DataLoader"
   ]
  },
  {
   "cell_type": "code",
   "execution_count": 2,
   "metadata": {},
   "outputs": [],
   "source": [
    "# Load HW Acc.\n",
    "device = torch.device(\"mps\")"
   ]
  },
  {
   "cell_type": "code",
   "execution_count": 3,
   "metadata": {},
   "outputs": [],
   "source": [
    "## 配置其他超参数，如batch_size, num_workers, learning rate, 以及总的epochs\n",
    "batch_size = 256\n",
    "num_workers = 7   # 对于Windows用户，这里应设置为0，否则会出现多线程错误\n",
    "lr = 1e-4\n",
    "epochs = 20"
   ]
  },
  {
   "cell_type": "code",
   "execution_count": 4,
   "metadata": {},
   "outputs": [],
   "source": [
    "from torchvision import transforms\n",
    "\n",
    "image_size = 28\n",
    "data_transform = transforms.Compose([\n",
    "    # transforms.ToPILImage(),  \n",
    "    # 这一步取决于后续的数据读取方式，如果使用内置数据集读取方式则不需要\n",
    "    transforms.Resize(image_size),\n",
    "    transforms.ToTensor()\n",
    "])"
   ]
  },
  {
   "cell_type": "code",
   "execution_count": 5,
   "metadata": {},
   "outputs": [],
   "source": [
    "# Load DataSet\n",
    "from torchvision import datasets\n",
    "\n",
    "train_data = datasets.FashionMNIST(root='../dataset/FashionMNIST', train=True, download=True, transform=data_transform)\n",
    "test_data = datasets.FashionMNIST(root='../dataset/FashionMNIST', train=False, download=True, transform=data_transform)"
   ]
  },
  {
   "cell_type": "code",
   "execution_count": 6,
   "metadata": {},
   "outputs": [],
   "source": [
    "train_loader = DataLoader(train_data, batch_size=batch_size, shuffle=True, num_workers=num_workers, drop_last=True)\n",
    "test_loader = DataLoader(test_data, batch_size=batch_size, shuffle=False, num_workers=num_workers)"
   ]
  },
  {
   "cell_type": "code",
   "execution_count": 7,
   "metadata": {},
   "outputs": [
    {
     "name": "stdout",
     "output_type": "stream",
     "text": [
      "torch.Size([256, 1, 28, 28]) torch.Size([256])\n"
     ]
    },
    {
     "data": {
      "text/plain": [
       "<matplotlib.image.AxesImage at 0x166cdf700>"
      ]
     },
     "execution_count": 7,
     "metadata": {},
     "output_type": "execute_result"
    },
    {
     "data": {
      "image/png": "[encoded data removed]",
      "text/plain": [
       "<Figure size 640x480 with 1 Axes>"
      ]
     },
     "metadata": {},
     "output_type": "display_data"
    }
   ],
   "source": [
    "import matplotlib.pyplot as plt\n",
    "image, label = next(iter(train_loader))\n",
    "print(image.shape, label.shape)\n",
    "plt.imshow(image[0][0], cmap=\"gray\")"
   ]
  },
  {
   "cell_type": "code",
   "execution_count": 8,
   "metadata": {},
   "outputs": [],
   "source": [
    "class Net(nn.Module):\n",
    "    def __init__(self):\n",
    "        super(Net, self).__init__()\n",
    "        self.conv = nn.Sequential(\n",
    "            nn.Conv2d(1, 32, 5),\n",
    "            nn.ReLU(),\n",
    "            nn.MaxPool2d(2, stride=2),\n",
    "            nn.Dropout(0.3),\n",
    "            nn.Conv2d(32, 64, 5),\n",
    "            nn.ReLU(),\n",
    "            nn.MaxPool2d(2, stride=2),\n",
    "            nn.Dropout(0.3)\n",
    "        )\n",
    "        self.fc = nn.Sequential(\n",
    "            nn.Linear(64*4*4, 512),\n",
    "            nn.ReLU(),\n",
    "            nn.Linear(512, 10)\n",
    "        )\n",
    "        \n",
    "    def forward(self, x):\n",
    "        x = self.conv(x)\n",
    "        x = x.view(-1, 64*4*4)\n",
    "        x = self.fc(x)\n",
    "        # x = nn.functional.normalize(x)\n",
    "        return x\n",
    "\n",
    "model = Net()\n",
    "model = model.to(device=device)"
   ]
  },
  {
   "cell_type": "code",
   "execution_count": 9,
   "metadata": {},
   "outputs": [],
   "source": [
    "criterion = nn.CrossEntropyLoss()"
   ]
  },
  {
   "cell_type": "code",
   "execution_count": 10,
   "metadata": {},
   "outputs": [],
   "source": [
    "optimizer = optim.Adam(model.parameters(), lr=0.001)"
   ]
  },
  {
   "cell_type": "code",
   "execution_count": 14,
   "metadata": {},
   "outputs": [],
   "source": [
    "def train(epoch):\n",
    "    model.train()\n",
    "    train_loss = 0\n",
    "    for data, label in train_loader:\n",
    "        data, label = data.to(device), label.to(device)\n",
    "        optimizer.zero_grad()\n",
    "        output = model(data)\n",
    "        loss = criterion(output, label)\n",
    "        loss.backward()\n",
    "        optimizer.step()\n",
    "        train_loss += loss.item()*data.size(0)\n",
    "    train_loss = train_loss/len(train_loader.dataset)\n",
    "    print('Epoch: {} \\tTraining Loss: {:.6f}'.format(epoch, train_loss))"
   ]
  },
  {
   "cell_type": "code",
   "execution_count": 15,
   "metadata": {},
   "outputs": [],
   "source": [
    "def val(epoch):       \n",
    "    model.eval()\n",
    "    val_loss = 0\n",
    "    gt_labels = []\n",
    "    pred_labels = []\n",
    "    with torch.no_grad():\n",
    "        for data, label in test_loader:\n",
    "            data, label = data.to(device), label.to(device)\n",
    "            output = model(data)\n",
    "            preds = torch.argmax(output, 1)\n",
    "            gt_labels.append(label.cpu().data.numpy())\n",
    "            pred_labels.append(preds.cpu().data.numpy())\n",
    "            loss = criterion(output, label)\n",
    "            val_loss += loss.item()*data.size(0)\n",
    "    val_loss = val_loss/len(test_loader.dataset)\n",
    "    gt_labels, pred_labels = np.concatenate(gt_labels), np.concatenate(pred_labels)\n",
    "    acc = np.sum(gt_labels==pred_labels)/len(pred_labels)\n",
    "    print('Epoch: {} \\tValidation Loss: {:.6f}, Accuracy: {:6f}'.format(epoch, val_loss, acc))"
   ]
  },
  {
   "cell_type": "code",
   "execution_count": 16,
   "metadata": {},
   "outputs": [
    {
     "name": "stdout",
     "output_type": "stream",
     "text": [
      "Epoch: 1 \tTraining Loss: 0.655923\n",
      "Epoch: 1 \tValidation Loss: 0.446687, Accuracy: 0.831600\n",
      "Epoch: 2 \tTraining Loss: 0.418289\n",
      "Epoch: 2 \tValidation Loss: 0.387068, Accuracy: 0.861000\n",
      "Epoch: 3 \tTraining Loss: 0.359369\n",
      "Epoch: 3 \tValidation Loss: 0.346420, Accuracy: 0.871600\n",
      "Epoch: 4 \tTraining Loss: 0.325504\n",
      "Epoch: 4 \tValidation Loss: 0.310112, Accuracy: 0.889400\n",
      "Epoch: 5 \tTraining Loss: 0.306328\n",
      "Epoch: 5 \tValidation Loss: 0.289475, Accuracy: 0.894500\n",
      "Epoch: 6 \tTraining Loss: 0.287859\n",
      "Epoch: 6 \tValidation Loss: 0.280332, Accuracy: 0.897700\n",
      "Epoch: 7 \tTraining Loss: 0.274955\n",
      "Epoch: 7 \tValidation Loss: 0.268887, Accuracy: 0.902100\n",
      "Epoch: 8 \tTraining Loss: 0.262184\n",
      "Epoch: 8 \tValidation Loss: 0.259565, Accuracy: 0.902400\n",
      "Epoch: 9 \tTraining Loss: 0.251910\n",
      "Epoch: 9 \tValidation Loss: 0.257168, Accuracy: 0.903700\n",
      "Epoch: 10 \tTraining Loss: 0.239271\n",
      "Epoch: 10 \tValidation Loss: 0.246312, Accuracy: 0.909200\n",
      "Epoch: 11 \tTraining Loss: 0.232452\n",
      "Epoch: 11 \tValidation Loss: 0.260038, Accuracy: 0.904800\n",
      "Epoch: 12 \tTraining Loss: 0.224043\n",
      "Epoch: 12 \tValidation Loss: 0.244187, Accuracy: 0.910800\n",
      "Epoch: 13 \tTraining Loss: 0.219235\n",
      "Epoch: 13 \tValidation Loss: 0.242135, Accuracy: 0.911900\n",
      "Epoch: 14 \tTraining Loss: 0.208242\n",
      "Epoch: 14 \tValidation Loss: 0.235874, Accuracy: 0.914700\n",
      "Epoch: 15 \tTraining Loss: 0.203050\n",
      "Epoch: 15 \tValidation Loss: 0.230655, Accuracy: 0.920200\n",
      "Epoch: 16 \tTraining Loss: 0.197037\n",
      "Epoch: 16 \tValidation Loss: 0.240826, Accuracy: 0.915300\n",
      "Epoch: 17 \tTraining Loss: 0.194403\n",
      "Epoch: 17 \tValidation Loss: 0.230318, Accuracy: 0.915000\n",
      "Epoch: 18 \tTraining Loss: 0.186585\n",
      "Epoch: 18 \tValidation Loss: 0.227222, Accuracy: 0.918600\n",
      "Epoch: 19 \tTraining Loss: 0.182325\n",
      "Epoch: 19 \tValidation Loss: 0.230836, Accuracy: 0.920200\n",
      "Epoch: 20 \tTraining Loss: 0.176897\n",
      "Epoch: 20 \tValidation Loss: 0.228091, Accuracy: 0.919400\n"
     ]
    }
   ],
   "source": [
    "for epoch in range(1, epochs+1):\n",
    "    train(epoch)\n",
    "    val(epoch)"
   ]
  },
  {
   "cell_type": "code",
   "execution_count": null,
   "metadata": {},
   "outputs": [],
   "source": []
  }
 ],
 "metadata": {
  "kernelspec": {
   "display_name": "Python 3",
   "language": "python",
   "name": "python3"
  },
  "language_info": {
   "codemirror_mode": {
    "name": "ipython",
    "version": 3
   },
   "file_extension": ".py",
   "mimetype": "text/x-python",
   "name": "python",
   "nbconvert_exporter": "python",
   "pygments_lexer": "ipython3",
   "version": "3.9.18"
  },
  "orig_nbformat": 4
 },
 "nbformat": 4,
 "nbformat_minor": 2
}
