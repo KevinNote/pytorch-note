{
 "cells": [
  {
   "cell_type": "markdown",
   "metadata": {},
   "source": [
    "# Tensor"
   ]
  },
  {
   "cell_type": "markdown",
   "metadata": {},
   "source": [
    "## Constructor"
   ]
  },
  {
   "cell_type": "code",
   "execution_count": 2,
   "metadata": {},
   "outputs": [
    {
     "name": "stdout",
     "output_type": "stream",
     "text": [
      "zeros = tensor([[0., 0., 0.],\n",
      "        [0., 0., 0.],\n",
      "        [0., 0., 0.],\n",
      "        [0., 0., 0.]])\n",
      "ones = tensor([[1.],\n",
      "        [1.],\n",
      "        [1.],\n",
      "        [1.],\n",
      "        [1.],\n",
      "        [1.],\n",
      "        [1.]])\n",
      "rands = tensor([[[0.7983, 0.3442, 0.9375, 0.9814],\n",
      "         [0.0347, 0.3188, 0.3247, 0.1338],\n",
      "         [0.8950, 0.6060, 0.7700, 0.2349]],\n",
      "\n",
      "        [[0.6265, 0.0537, 0.7871, 0.7285],\n",
      "         [0.9937, 0.7114, 0.1416, 0.4878],\n",
      "         [0.1362, 0.9683, 0.6353, 0.9102]]], dtype=torch.float16)\n"
     ]
    }
   ],
   "source": [
    "import torch\n",
    "\n",
    "# Zero Matrix\n",
    "x = torch.zeros((4, 3), dtype=torch.float) # 4x3\n",
    "print(\"zeros =\", x)\n",
    "\n",
    "# One Matrix\n",
    "o = torch.ones((7, 1), dtype=torch.float32) # Consider  7, 1 -> 7 items, each item 1 1 ite \n",
    "print(\"ones =\", o)\n",
    "\n",
    "# Rand Matrix\n",
    "r = torch.rand((2, 3, 4), dtype=torch.float16)\n",
    "print(\"rands =\", r)"
   ]
  },
  {
   "cell_type": "code",
   "execution_count": 47,
   "metadata": {},
   "outputs": [
    {
     "name": "stdout",
     "output_type": "stream",
     "text": [
      "tensor([[ 6.2142e-01,  3.9220e-01,  1.0477e+00],\n",
      "        [-1.0433e+00, -1.5716e+00, -9.9595e-01],\n",
      "        [ 5.3391e-01, -7.4543e-04, -1.5879e+00],\n",
      "        [ 1.0445e+00, -9.9226e-01, -1.0165e+00]])\n"
     ]
    }
   ],
   "source": [
    "x = torch.randn_like(x) # make x randomise\n",
    "print(x)"
   ]
  },
  {
   "cell_type": "code",
   "execution_count": 48,
   "metadata": {},
   "outputs": [
    {
     "name": "stdout",
     "output_type": "stream",
     "text": [
      "Tensor = tensor([[ 6.2142e-01,  3.9220e-01,  1.0477e+00],\n",
      "        [-1.0433e+00, -1.5716e+00, -9.9595e-01],\n",
      "        [ 5.3391e-01, -7.4543e-04, -1.5879e+00],\n",
      "        [ 1.0445e+00, -9.9226e-01, -1.0165e+00]]) \n",
      "Size = torch.Size([4, 3])\n",
      "Tensor = tensor([[1.],\n",
      "        [1.],\n",
      "        [1.],\n",
      "        [1.],\n",
      "        [1.],\n",
      "        [1.],\n",
      "        [1.]]) \n",
      "Size = torch.Size([7, 1])\n",
      "Tensor = tensor([[[0.5835, 0.4961, 0.1367, 0.8608],\n",
      "         [0.2852, 0.2070, 0.0776, 0.6562],\n",
      "         [0.6187, 0.4692, 0.2090, 0.1987]],\n",
      "\n",
      "        [[0.2202, 0.1401, 0.8916, 0.1113],\n",
      "         [0.8823, 0.6904, 0.8438, 0.5273],\n",
      "         [0.1401, 0.2495, 0.4194, 0.7349]]], dtype=torch.float16) \n",
      "Size = torch.Size([2, 3, 4])\n"
     ]
    }
   ],
   "source": [
    "# Size\n",
    "def _foo_size(m: torch.tensor):\n",
    "    print(\"Tensor =\", m, \"\\nSize =\", m.size())\n",
    "\n",
    "_foo_size(x) # 4 x 3\n",
    "_foo_size(o) # 7 x 1\n",
    "_foo_size(r) # 2 x 3 x 4"
   ]
  },
  {
   "cell_type": "markdown",
   "metadata": {},
   "source": [
    "### Some functions\n",
    "\n",
    "| 函数 | 备注 |\n",
    "| --- | --- |\n",
    "| `Tensor(sizes)` | 基础构造函数 |\n",
    "| `tensor(data)` | 类似于np.array |\n",
    "| `ones(sizes)` | 全1 |\n",
    "| `zeros(sizes)` | 全0 |\n",
    "| `eye(sizes)` | 对角为1，其余为0 |\n",
    "| `arange(s,e,step)` | 从s到e，步长为step |\n",
    "| `linspace(s,e,steps)` | 从s到e，均匀分成step份 |\n",
    "| `rand/randn(sizes)` | rand是 \\[0,1\\) 均匀分布；randn是服从N(0，1)的正态分布 |\n",
    "| `normal(mean,std)` | 正态分布(均值为mean，标准差是std) |\n",
    "| `randperm(m)` | 随机排列 |"
   ]
  },
  {
   "cell_type": "markdown",
   "metadata": {},
   "source": [
    "## Operation"
   ]
  },
  {
   "cell_type": "code",
   "execution_count": 49,
   "metadata": {},
   "outputs": [
    {
     "name": "stdout",
     "output_type": "stream",
     "text": [
      "Oper1 = tensor([[0.4606, 0.3432, 0.4596],\n",
      "        [0.4213, 0.0074, 0.5885],\n",
      "        [0.8503, 0.1651, 0.0275],\n",
      "        [0.2428, 0.6862, 0.8944]], dtype=torch.float64)\n",
      "Oper2 = tensor([[1., 1., 1.],\n",
      "        [1., 1., 1.],\n",
      "        [1., 1., 1.],\n",
      "        [1., 1., 1.]])\n",
      "O1 + O2 = tensor([[1.4606, 1.3432, 1.4596],\n",
      "        [1.4213, 1.0074, 1.5885],\n",
      "        [1.8503, 1.1651, 1.0275],\n",
      "        [1.2428, 1.6862, 1.8944]], dtype=torch.float64)\n",
      "O2 + O1 = tensor([[1.4606, 1.3432, 1.4596],\n",
      "        [1.4213, 1.0074, 1.5885],\n",
      "        [1.8503, 1.1651, 1.0275],\n",
      "        [1.2428, 1.6862, 1.8944]], dtype=torch.float64)\n",
      "add(self) = tensor([[0.4606, 0.3432, 0.4596],\n",
      "        [0.4213, 0.0074, 0.5885],\n",
      "        [0.8503, 0.1651, 0.0275],\n",
      "        [0.2428, 0.6862, 0.8944]], dtype=torch.float64)\n",
      "add_(self) = tensor([[1.4606, 1.3432, 1.4596],\n",
      "        [1.4213, 1.0074, 1.5885],\n",
      "        [1.8503, 1.1651, 1.0275],\n",
      "        [1.2428, 1.6862, 1.8944]], dtype=torch.float64)\n"
     ]
    }
   ],
   "source": [
    "import torch\n",
    "\n",
    "_o1 = torch.rand((4, 3), dtype=torch.float64)\n",
    "_o2 = torch.ones((4, 3), dtype=torch.float32)\n",
    "print(\"Oper1 =\", _o1)\n",
    "print(\"Oper2 =\", _o2)\n",
    "_r1 = _o1 + _o2\n",
    "print(\"O1 + O2 =\", _r1)\n",
    "_r2 = _o2 + _o1\n",
    "print(\"O2 + O1 =\", _r2)\n",
    "\n",
    "_o1.add(_o2)\n",
    "print(\"add(self) =\", _o1)\n",
    "_o1.add_(_o2)\n",
    "print(\"add_(self) =\", _o1)"
   ]
  },
  {
   "cell_type": "code",
   "execution_count": 50,
   "metadata": {},
   "outputs": [
    {
     "name": "stdout",
     "output_type": "stream",
     "text": [
      "tensor([[[-0.8907,  0.4556],\n",
      "         [-0.3702, -0.8383],\n",
      "         [ 0.5508, -0.2645]],\n",
      "\n",
      "        [[ 2.1586, -1.4386],\n",
      "         [ 0.2899, -0.1456],\n",
      "         [ 0.7341,  0.8412]],\n",
      "\n",
      "        [[ 0.3454, -0.6233],\n",
      "         [-1.6413, -0.5500],\n",
      "         [ 0.1116,  1.7938]],\n",
      "\n",
      "        [[-0.4579,  1.6365],\n",
      "         [-1.2949, -0.7643],\n",
      "         [-0.0401, -0.5374]]])\n",
      "tensor([[ 0.5508, -0.2645],\n",
      "        [ 0.7341,  0.8412],\n",
      "        [ 0.1116,  1.7938],\n",
      "        [-0.0401, -0.5374]])\n",
      "tensor([[ 2.1586, -1.4386],\n",
      "        [ 0.2899, -0.1456],\n",
      "        [ 0.7341,  0.8412]])\n",
      "tensor([[ 2.1586, -1.4386],\n",
      "        [ 0.2899, -0.1456],\n",
      "        [ 0.7341,  0.8412]])\n",
      "tensor([2.1586, 0.2899, 0.7341])\n"
     ]
    }
   ],
   "source": [
    "_idx = torch.randn(4, 3, 2)\n",
    "print(_idx)\n",
    "print(_idx[:, 2])\n",
    "print(_idx[1])\n",
    "print(_idx[1, :])\n",
    "print(_idx[1, :, 0])"
   ]
  },
  {
   "cell_type": "markdown",
   "metadata": {},
   "source": [
    "### Reshaping"
   ]
  },
  {
   "cell_type": "code",
   "execution_count": 8,
   "metadata": {},
   "outputs": [
    {
     "name": "stdout",
     "output_type": "stream",
     "text": [
      "tensor([[0.7361, 0.4630, 0.7515, 0.9819],\n",
      "        [0.2536, 0.0166, 0.5600, 0.8375],\n",
      "        [0.9675, 0.3923, 0.3063, 0.5710],\n",
      "        [0.4708, 0.1323, 0.2812, 0.0552]])\n",
      "tensor([0.7361, 0.4630, 0.7515, 0.9819, 0.2536, 0.0166, 0.5600, 0.8375, 0.9675,\n",
      "        0.3923, 0.3063, 0.5710, 0.4708, 0.1323, 0.2812, 0.0552])\n",
      "tensor([[0.7361, 0.4630, 0.7515, 0.9819, 0.2536, 0.0166, 0.5600, 0.8375],\n",
      "        [0.9675, 0.3923, 0.3063, 0.5710, 0.4708, 0.1323, 0.2812, 0.0552]])\n"
     ]
    },
    {
     "ename": "RuntimeError",
     "evalue": "shape '[-1, 17]' is invalid for input of size 16",
     "output_type": "error",
     "traceback": [
      "\u001b[0;31m---------------------------------------------------------------------------\u001b[0m",
      "\u001b[0;31mRuntimeError\u001b[0m                              Traceback (most recent call last)",
      "Cell \u001b[0;32mIn[8], line 6\u001b[0m\n\u001b[1;32m      4\u001b[0m \u001b[39mprint\u001b[39m(_view\u001b[39m.\u001b[39mview(\u001b[39m16\u001b[39m))\n\u001b[1;32m      5\u001b[0m \u001b[39mprint\u001b[39m(_view\u001b[39m.\u001b[39mview(\u001b[39m2\u001b[39m, \u001b[39m-\u001b[39m\u001b[39m1\u001b[39m))\n\u001b[0;32m----> 6\u001b[0m \u001b[39mprint\u001b[39m(_view\u001b[39m.\u001b[39;49mview(\u001b[39m-\u001b[39;49m\u001b[39m1\u001b[39;49m, \u001b[39m17\u001b[39;49m))\n",
      "\u001b[0;31mRuntimeError\u001b[0m: shape '[-1, 17]' is invalid for input of size 16"
     ]
    }
   ],
   "source": [
    "_view = torch.rand((4, 4))\n",
    "print(_view)\n",
    "\n",
    "print(_view.view(16))\n",
    "print(_view.view(2, -1))\n",
    "print(_view.view(-1, 17)) # invalid"
   ]
  },
  {
   "cell_type": "code",
   "execution_count": 16,
   "metadata": {},
   "outputs": [
    {
     "name": "stdout",
     "output_type": "stream",
     "text": [
      "tensor([[0],\n",
      "        [1],\n",
      "        [2]])\n",
      "tensor([0, 1])\n",
      "tensor([[0, 1],\n",
      "        [1, 2],\n",
      "        [2, 3]])\n"
     ]
    }
   ],
   "source": [
    "_arrange = torch.arange(0, 3, 1).view(3, 1)\n",
    "print(_arrange)\n",
    "_addOn = torch.tensor([0, 1])\n",
    "print(_addOn)\n",
    "_out = _arrange + _addOn\n",
    "print(_out)"
   ]
  }
 ],
 "metadata": {
  "kernelspec": {
   "display_name": "Python 3",
   "language": "python",
   "name": "python3"
  },
  "language_info": {
   "codemirror_mode": {
    "name": "ipython",
    "version": 3
   },
   "file_extension": ".py",
   "mimetype": "text/x-python",
   "name": "python",
   "nbconvert_exporter": "python",
   "pygments_lexer": "ipython3",
   "version": "3.11.2"
  },
  "orig_nbformat": 4
 },
 "nbformat": 4,
 "nbformat_minor": 2
}
